{
 "cells": [
  {
   "cell_type": "markdown",
   "metadata": {},
   "source": [
    "### Dinosaurs\n",
    "Q: What would the distribution look like after taking into account the movements of the continents?\n",
    "\n",
    "### Cetaceans\n",
    "Q: Any difference in the rise and fall species richness between the odonticetes and the mysticetes?\n",
    "\n",
    "### Canis\n",
    "Q: I wonder what the geographic distribution of the Canis fossils was\n",
    "\n",
    "### Chiroptera\n",
    "Q: Is there a specific clade of bats that were more successful than others?\n",
    "\n",
    "### Autism data\n",
    "Q: What does the age of parents have to do with the diagnosis?\n",
    "\n",
    "### Equidae\n",
    "Q: What is meant by the teeth length measurements?\n",
    "Comment: Might be more meaningful if the plant diversity analysis was more focused on the plants that horses eat. Many of the plant phyla were unrelated to horse diet.\n",
    "\n",
    "### Seagrass\n",
    "Q: What is the extant diversity of seagrass?\n",
    "\n",
    "### Canidae\n",
    "Q: When did the two other subfamilies go extinct? \n",
    "\n",
    "### Neotropical birds\n",
    "Q: How was the fossil occurrence data vetted to ensure that the birds were neotropical?\n",
    "\n",
    "### Aves\n",
    "Q: Are those two longest lasting species closely related?\n",
    "\n",
    "### Anura\n",
    "Q: How old is the entire Anura clade?\n",
    "\n",
    "### Heteromyidae\n",
    "Q: When was the spike in the extinction rates?\n",
    "\n",
    "### Felidae\n",
    "Q: Was the net diversification rate decrease coincident with the Pleistocene glaciation?\n",
    "\n",
    "### Mustelidae\n",
    "Q: The diversity plots look very similar to the Felids', are the two groups affected by the same factors that caused the recent increase in extinctions?"
   ]
  }
 ],
 "metadata": {
  "anaconda-cloud": {},
  "kernelspec": {
   "display_name": "Python [default]",
   "language": "python",
   "name": "python3"
  },
  "language_info": {
   "codemirror_mode": {
    "name": "ipython",
    "version": 3
   },
   "file_extension": ".py",
   "mimetype": "text/x-python",
   "name": "python",
   "nbconvert_exporter": "python",
   "pygments_lexer": "ipython3",
   "version": "3.5.2"
  }
 },
 "nbformat": 4,
 "nbformat_minor": 2
}
