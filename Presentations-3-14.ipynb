{
 "cells": [
  {
   "cell_type": "markdown",
   "metadata": {},
   "source": [
    "# Student presentations\n",
    "\n",
    "### Sharks\n",
    "Q: What drives the changes in speciation rates in this taxa?\n",
    "\n",
    "### Canids\n",
    "Q: \n",
    "\n",
    "### Proboscids\n",
    "Q: Any difference in species longevity between the North American species and the Eurasian species?\n",
    "\n",
    "### Ashen - Amazon Turk\n",
    "Q: Is there a relationship between cooperation and decision time?\n",
    "\n",
    "### Mathew - Oak\n",
    "Q: When was the tree data collected? Was there variation across lattitutes?\n",
    "\n",
    "### Squamata\n",
    "Q: Any difference in rates of speciation between the pre-era and post-era?\n",
    "\n",
    "### Alligatoridae\n",
    "Q: Any geographic correlation to how long the alligators species survived?\n",
    "\n",
    "### Pilosa\n",
    "Q: Could the data show the America biotic interchange?\n",
    "\n",
    "### Birds vs Mammals\n",
    "Q: Was there a correlation of fossil occurrences of these two taxa at the beginning of the Cenozoic?\n",
    "\n",
    "### Youstina - Haplorhini\n",
    "Q: Why was only the max ages used to produce the barplot?\n",
    "\n",
    "### Heart rate\n",
    "Q: How is the metabolic threshold determined? \n",
    "\n",
    "### Medhi - Avian Atherosclerosis\n",
    "Q: How did you choose which species is the representative species for their order?\n",
    "\n",
    "### Circadian rhythm\n",
    "Q: There was one graph where the bar on the left was way higher than the rest of the bars, what was that showing?\n",
    "\n",
    "### Feliformia\n",
    "Q: Why do you think the fossil occurrence durations for feliformians are so short?\n",
    "\n",
    "### Ducks\n",
    "Q: Can the same influenza strain infect both the American and Asian ducks? What would the phylogeny of the influenza virus look like?"
   ]
  }
 ],
 "metadata": {
  "anaconda-cloud": {},
  "kernelspec": {
   "display_name": "Python [default]",
   "language": "python",
   "name": "python3"
  },
  "language_info": {
   "codemirror_mode": {
    "name": "ipython",
    "version": 3
   },
   "file_extension": ".py",
   "mimetype": "text/x-python",
   "name": "python",
   "nbconvert_exporter": "python",
   "pygments_lexer": "ipython3",
   "version": "3.5.2"
  }
 },
 "nbformat": 4,
 "nbformat_minor": 2
}
