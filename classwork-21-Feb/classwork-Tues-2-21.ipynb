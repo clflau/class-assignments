{
 "cells": [
  {
   "cell_type": "markdown",
   "metadata": {
    "collapsed": false
   },
   "source": [
    "#### Getting data\n",
    "\n",
    "```\n",
    "wget http://ctfs.si.edu/webatlas/datasets/cocoli/cocoli.zip\n",
    "unzip cocoli.zip\n",
    "```\n",
    "#### Looking into files\n",
    "```\n",
    "#First look at the readme\n",
    "see cocoli_files.doc\n",
    "\n",
    "#this file describes how the data files are formatted\n",
    "```\n",
    "##### What does each row in cocoli.txt represent?\n",
    "```\n",
    "less cocoli.txt\n",
    "\n",
    "#each row represent a tree record\n",
    "```\n",
    "##### What does each row in cocolisp.txt represent?\n",
    "```\n",
    "less cocolisp.txt\n",
    "\n",
    "#each row contains the taxonomic info for each species code\n",
    "```\n",
    "##### What does the entry in the column multi2 refer to?\n",
    "```\n",
    "see cocoli_files.doc\n",
    "\n",
    "#multi2 is the \"Number of stems the plant has at 1.3m from sensus 2\" \n",
    "```\n",
    "##### What does the entry in the column dbh2 refer to?\n",
    "```\n",
    "#dbh2 is the diameter at breast height from sensus 2\n",
    "```\n",
    "##### How can we find the genus and species name of this record?\n",
    "```\n",
    "grep CAL2CA cocolisp.txt\n",
    "```\n",
    "##### What is the genus and species name of this record?\n",
    "```\n",
    "#Calycophyllum candidissimum\n",
    "```\n",
    "##### Brainstorm some interesting questions with these data\n",
    "```\n",
    "#Can look at: mortality of trees over time, species composition over time, change in average dbh growth over time, spatial variation of tree distribution across plot, explore life history strategies of different species...\n",
    "```\n",
    "##### Which is the most species-rich genus?\n",
    "```\n",
    "#sed command to format the file into csv\n",
    "sed 's/\\s/,/g' cocolisp.txt | tail -n +3 | cut -d  \",\" -f 2 | sort | uniq -c | sort -n\n",
    "#Piper is the most species-rich genus\n",
    "```\n",
    "##### How many genera have only one species?\n",
    "```\n",
    "sed 's/\\s/,/g' cocolisp.txt | tail -n +3 | cut -d  \",\" -f 2 | sort | uniq -c | sort -n | grep -w 1 | wc -l\n",
    "#99\n",
    "```\n",
    "\n",
    "\n"
   ]
  },
  {
   "cell_type": "code",
   "execution_count": null,
   "metadata": {
    "collapsed": true
   },
   "outputs": [],
   "source": [
    "#Calculate relative growth rates\n",
    "\n",
    "#Begin pseudocode\n",
    "#convert cocoli.txt into csv\n",
    "#read cocoli.csv into python line-by-line as a list using .readlines()\n",
    "#each line of the csv file is now an element in the list\n",
    "#make new list by indexing out the tag number and the dbh for each year\n",
    "#create dictionaries using above lists\n",
    "#create function to calculate RGR\n",
    "#the function will "
   ]
  }
 ],
 "metadata": {
  "anaconda-cloud": {},
  "kernelspec": {
   "display_name": "Python [default]",
   "language": "python",
   "name": "python3"
  },
  "language_info": {
   "codemirror_mode": {
    "name": "ipython",
    "version": 3
   },
   "file_extension": ".py",
   "mimetype": "text/x-python",
   "name": "python",
   "nbconvert_exporter": "python",
   "pygments_lexer": "ipython3",
   "version": "3.5.2"
  }
 },
 "nbformat": 4,
 "nbformat_minor": 2
}
